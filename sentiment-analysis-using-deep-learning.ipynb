{
 "cells": [
  {
   "cell_type": "code",
   "execution_count": 1,
   "id": "f3221b54",
   "metadata": {
    "execution": {
     "iopub.execute_input": "2022-09-09T09:30:18.721615Z",
     "iopub.status.busy": "2022-09-09T09:30:18.720085Z",
     "iopub.status.idle": "2022-09-09T09:30:18.734760Z",
     "shell.execute_reply": "2022-09-09T09:30:18.733440Z"
    },
    "papermill": {
     "duration": 0.033932,
     "end_time": "2022-09-09T09:30:18.738176",
     "exception": false,
     "start_time": "2022-09-09T09:30:18.704244",
     "status": "completed"
    },
    "tags": []
   },
   "outputs": [],
   "source": [
    "import numpy as np\n",
    "import pandas as pd\n",
    "import re"
   ]
  },
  {
   "cell_type": "code",
   "execution_count": 2,
   "id": "667936b7",
   "metadata": {
    "execution": {
     "iopub.execute_input": "2022-09-09T09:30:18.765182Z",
     "iopub.status.busy": "2022-09-09T09:30:18.764534Z",
     "iopub.status.idle": "2022-09-09T09:30:18.906778Z",
     "shell.execute_reply": "2022-09-09T09:30:18.905846Z"
    },
    "papermill": {
     "duration": 0.15898,
     "end_time": "2022-09-09T09:30:18.909731",
     "exception": false,
     "start_time": "2022-09-09T09:30:18.750751",
     "status": "completed"
    },
    "tags": []
   },
   "outputs": [],
   "source": [
    "df = pd.read_csv(r\"C:\\Users\\ASUS\\Downloads\\train.csv\")"
   ]
  },
  {
   "cell_type": "code",
   "execution_count": 3,
   "id": "26005d7f",
   "metadata": {},
   "outputs": [
    {
     "data": {
      "text/html": [
       "<div>\n",
       "<style scoped>\n",
       "    .dataframe tbody tr th:only-of-type {\n",
       "        vertical-align: middle;\n",
       "    }\n",
       "\n",
       "    .dataframe tbody tr th {\n",
       "        vertical-align: top;\n",
       "    }\n",
       "\n",
       "    .dataframe thead th {\n",
       "        text-align: right;\n",
       "    }\n",
       "</style>\n",
       "<table border=\"1\" class=\"dataframe\">\n",
       "  <thead>\n",
       "    <tr style=\"text-align: right;\">\n",
       "      <th></th>\n",
       "      <th>textID</th>\n",
       "      <th>text</th>\n",
       "      <th>selected_text</th>\n",
       "      <th>sentiment</th>\n",
       "    </tr>\n",
       "  </thead>\n",
       "  <tbody>\n",
       "    <tr>\n",
       "      <th>0</th>\n",
       "      <td>cb774db0d1</td>\n",
       "      <td>I`d have responded, if I were going</td>\n",
       "      <td>I`d have responded, if I were going</td>\n",
       "      <td>neutral</td>\n",
       "    </tr>\n",
       "    <tr>\n",
       "      <th>1</th>\n",
       "      <td>549e992a42</td>\n",
       "      <td>Sooo SAD I will miss you here in San Diego!!!</td>\n",
       "      <td>Sooo SAD</td>\n",
       "      <td>negative</td>\n",
       "    </tr>\n",
       "    <tr>\n",
       "      <th>2</th>\n",
       "      <td>088c60f138</td>\n",
       "      <td>my boss is bullying me...</td>\n",
       "      <td>bullying me</td>\n",
       "      <td>negative</td>\n",
       "    </tr>\n",
       "    <tr>\n",
       "      <th>3</th>\n",
       "      <td>9642c003ef</td>\n",
       "      <td>what interview! leave me alone</td>\n",
       "      <td>leave me alone</td>\n",
       "      <td>negative</td>\n",
       "    </tr>\n",
       "    <tr>\n",
       "      <th>4</th>\n",
       "      <td>358bd9e861</td>\n",
       "      <td>Sons of ****, why couldn`t they put them on t...</td>\n",
       "      <td>Sons of ****,</td>\n",
       "      <td>negative</td>\n",
       "    </tr>\n",
       "    <tr>\n",
       "      <th>...</th>\n",
       "      <td>...</td>\n",
       "      <td>...</td>\n",
       "      <td>...</td>\n",
       "      <td>...</td>\n",
       "    </tr>\n",
       "    <tr>\n",
       "      <th>27476</th>\n",
       "      <td>4eac33d1c0</td>\n",
       "      <td>wish we could come see u on Denver  husband l...</td>\n",
       "      <td>d lost</td>\n",
       "      <td>negative</td>\n",
       "    </tr>\n",
       "    <tr>\n",
       "      <th>27477</th>\n",
       "      <td>4f4c4fc327</td>\n",
       "      <td>I`ve wondered about rake to.  The client has ...</td>\n",
       "      <td>, don`t force</td>\n",
       "      <td>negative</td>\n",
       "    </tr>\n",
       "    <tr>\n",
       "      <th>27478</th>\n",
       "      <td>f67aae2310</td>\n",
       "      <td>Yay good for both of you. Enjoy the break - y...</td>\n",
       "      <td>Yay good for both of you.</td>\n",
       "      <td>positive</td>\n",
       "    </tr>\n",
       "    <tr>\n",
       "      <th>27479</th>\n",
       "      <td>ed167662a5</td>\n",
       "      <td>But it was worth it  ****.</td>\n",
       "      <td>But it was worth it  ****.</td>\n",
       "      <td>positive</td>\n",
       "    </tr>\n",
       "    <tr>\n",
       "      <th>27480</th>\n",
       "      <td>6f7127d9d7</td>\n",
       "      <td>All this flirting going on - The ATG smiles...</td>\n",
       "      <td>All this flirting going on - The ATG smiles. Y...</td>\n",
       "      <td>neutral</td>\n",
       "    </tr>\n",
       "  </tbody>\n",
       "</table>\n",
       "<p>27481 rows × 4 columns</p>\n",
       "</div>"
      ],
      "text/plain": [
       "           textID                                               text  \\\n",
       "0      cb774db0d1                I`d have responded, if I were going   \n",
       "1      549e992a42      Sooo SAD I will miss you here in San Diego!!!   \n",
       "2      088c60f138                          my boss is bullying me...   \n",
       "3      9642c003ef                     what interview! leave me alone   \n",
       "4      358bd9e861   Sons of ****, why couldn`t they put them on t...   \n",
       "...           ...                                                ...   \n",
       "27476  4eac33d1c0   wish we could come see u on Denver  husband l...   \n",
       "27477  4f4c4fc327   I`ve wondered about rake to.  The client has ...   \n",
       "27478  f67aae2310   Yay good for both of you. Enjoy the break - y...   \n",
       "27479  ed167662a5                         But it was worth it  ****.   \n",
       "27480  6f7127d9d7     All this flirting going on - The ATG smiles...   \n",
       "\n",
       "                                           selected_text sentiment  \n",
       "0                    I`d have responded, if I were going   neutral  \n",
       "1                                               Sooo SAD  negative  \n",
       "2                                            bullying me  negative  \n",
       "3                                         leave me alone  negative  \n",
       "4                                          Sons of ****,  negative  \n",
       "...                                                  ...       ...  \n",
       "27476                                             d lost  negative  \n",
       "27477                                      , don`t force  negative  \n",
       "27478                          Yay good for both of you.  positive  \n",
       "27479                         But it was worth it  ****.  positive  \n",
       "27480  All this flirting going on - The ATG smiles. Y...   neutral  \n",
       "\n",
       "[27481 rows x 4 columns]"
      ]
     },
     "execution_count": 3,
     "metadata": {},
     "output_type": "execute_result"
    }
   ],
   "source": [
    "df\n"
   ]
  },
  {
   "cell_type": "code",
   "execution_count": 4,
   "id": "5ba0ad9f",
   "metadata": {
    "execution": {
     "iopub.execute_input": "2022-09-09T09:30:18.940002Z",
     "iopub.status.busy": "2022-09-09T09:30:18.939544Z",
     "iopub.status.idle": "2022-09-09T09:30:18.955642Z",
     "shell.execute_reply": "2022-09-09T09:30:18.953355Z"
    },
    "papermill": {
     "duration": 0.034552,
     "end_time": "2022-09-09T09:30:18.958236",
     "exception": false,
     "start_time": "2022-09-09T09:30:18.923684",
     "status": "completed"
    },
    "tags": []
   },
   "outputs": [
    {
     "data": {
      "text/html": [
       "<div>\n",
       "<style scoped>\n",
       "    .dataframe tbody tr th:only-of-type {\n",
       "        vertical-align: middle;\n",
       "    }\n",
       "\n",
       "    .dataframe tbody tr th {\n",
       "        vertical-align: top;\n",
       "    }\n",
       "\n",
       "    .dataframe thead th {\n",
       "        text-align: right;\n",
       "    }\n",
       "</style>\n",
       "<table border=\"1\" class=\"dataframe\">\n",
       "  <thead>\n",
       "    <tr style=\"text-align: right;\">\n",
       "      <th></th>\n",
       "      <th>textID</th>\n",
       "      <th>text</th>\n",
       "      <th>selected_text</th>\n",
       "      <th>sentiment</th>\n",
       "    </tr>\n",
       "  </thead>\n",
       "  <tbody>\n",
       "    <tr>\n",
       "      <th>0</th>\n",
       "      <td>cb774db0d1</td>\n",
       "      <td>I`d have responded, if I were going</td>\n",
       "      <td>I`d have responded, if I were going</td>\n",
       "      <td>neutral</td>\n",
       "    </tr>\n",
       "    <tr>\n",
       "      <th>1</th>\n",
       "      <td>549e992a42</td>\n",
       "      <td>Sooo SAD I will miss you here in San Diego!!!</td>\n",
       "      <td>Sooo SAD</td>\n",
       "      <td>negative</td>\n",
       "    </tr>\n",
       "    <tr>\n",
       "      <th>2</th>\n",
       "      <td>088c60f138</td>\n",
       "      <td>my boss is bullying me...</td>\n",
       "      <td>bullying me</td>\n",
       "      <td>negative</td>\n",
       "    </tr>\n",
       "    <tr>\n",
       "      <th>3</th>\n",
       "      <td>9642c003ef</td>\n",
       "      <td>what interview! leave me alone</td>\n",
       "      <td>leave me alone</td>\n",
       "      <td>negative</td>\n",
       "    </tr>\n",
       "    <tr>\n",
       "      <th>4</th>\n",
       "      <td>358bd9e861</td>\n",
       "      <td>Sons of ****, why couldn`t they put them on t...</td>\n",
       "      <td>Sons of ****,</td>\n",
       "      <td>negative</td>\n",
       "    </tr>\n",
       "  </tbody>\n",
       "</table>\n",
       "</div>"
      ],
      "text/plain": [
       "       textID                                               text  \\\n",
       "0  cb774db0d1                I`d have responded, if I were going   \n",
       "1  549e992a42      Sooo SAD I will miss you here in San Diego!!!   \n",
       "2  088c60f138                          my boss is bullying me...   \n",
       "3  9642c003ef                     what interview! leave me alone   \n",
       "4  358bd9e861   Sons of ****, why couldn`t they put them on t...   \n",
       "\n",
       "                         selected_text sentiment  \n",
       "0  I`d have responded, if I were going   neutral  \n",
       "1                             Sooo SAD  negative  \n",
       "2                          bullying me  negative  \n",
       "3                       leave me alone  negative  \n",
       "4                        Sons of ****,  negative  "
      ]
     },
     "execution_count": 4,
     "metadata": {},
     "output_type": "execute_result"
    }
   ],
   "source": [
    "train = df.drop(['textID','text'],axis=1)\n",
    "df.head()"
   ]
  },
  {
   "cell_type": "markdown",
   "id": "b1a545aa",
   "metadata": {
    "papermill": {
     "duration": 0.011959,
     "end_time": "2022-09-09T09:30:18.982895",
     "exception": false,
     "start_time": "2022-09-09T09:30:18.970936",
     "status": "completed"
    },
    "tags": []
   },
   "source": [
    "# Data Preprocessing"
   ]
  },
  {
   "cell_type": "raw",
   "id": "78852944",
   "metadata": {
    "papermill": {
     "duration": 0.012056,
     "end_time": "2022-09-09T09:30:19.007542",
     "exception": false,
     "start_time": "2022-09-09T09:30:18.995486",
     "status": "completed"
    },
    "tags": []
   },
   "source": [
    "\"\"\"\n",
    "we have to clean all the tweets which includes\n",
    "filling missing vlaues\n",
    "convert text to lowercase\n",
    "remove mentions\n",
    "remove hashes\n",
    "remove new line characters\n",
    "remove single quotes\n",
    "remove hyperlinks\n",
    "remove punctuations\n",
    "remove stopwords. Stopwords means small words like I, you, is, just etc\n",
    "\"\"\""
   ]
  },
  {
   "cell_type": "code",
   "execution_count": 5,
   "id": "90d3c92f",
   "metadata": {
    "execution": {
     "iopub.execute_input": "2022-09-09T09:30:19.037323Z",
     "iopub.status.busy": "2022-09-09T09:30:19.036679Z",
     "iopub.status.idle": "2022-09-09T09:30:19.048274Z",
     "shell.execute_reply": "2022-09-09T09:30:19.047362Z"
    },
    "papermill": {
     "duration": 0.030996,
     "end_time": "2022-09-09T09:30:19.050785",
     "exception": false,
     "start_time": "2022-09-09T09:30:19.019789",
     "status": "completed"
    },
    "tags": []
   },
   "outputs": [],
   "source": [
    "train.selected_text.fillna('No text',inplace=True)"
   ]
  },
  {
   "cell_type": "code",
   "execution_count": 6,
   "id": "c5b2e4dd",
   "metadata": {
    "execution": {
     "iopub.execute_input": "2022-09-09T09:30:19.079113Z",
     "iopub.status.busy": "2022-09-09T09:30:19.078338Z",
     "iopub.status.idle": "2022-09-09T09:30:19.084753Z",
     "shell.execute_reply": "2022-09-09T09:30:19.083886Z"
    },
    "papermill": {
     "duration": 0.023643,
     "end_time": "2022-09-09T09:30:19.087011",
     "exception": false,
     "start_time": "2022-09-09T09:30:19.063368",
     "status": "completed"
    },
    "tags": []
   },
   "outputs": [],
   "source": [
    "def cleantext(text):\n",
    "    text = re.sub(r'@[A-Za-z0-9]+','', text) #remove mentions\n",
    "    text = re.sub(r'#','', text) #remove hash\n",
    "    text = re.sub(r'https?:\\/\\/\\S+', '', text) #remove hyperlink\n",
    "    text = re.sub('\\s+', ' ', text) #remove new line char\n",
    "    text = re.sub(\"\\'\", \"\", text) #remove single quotes\n",
    "    \n",
    "    return text"
   ]
  },
  {
   "cell_type": "code",
   "execution_count": 7,
   "id": "1048784c",
   "metadata": {
    "execution": {
     "iopub.execute_input": "2022-09-09T09:30:19.113531Z",
     "iopub.status.busy": "2022-09-09T09:30:19.113117Z",
     "iopub.status.idle": "2022-09-09T09:30:19.354219Z",
     "shell.execute_reply": "2022-09-09T09:30:19.352847Z"
    },
    "papermill": {
     "duration": 0.257909,
     "end_time": "2022-09-09T09:30:19.357226",
     "exception": false,
     "start_time": "2022-09-09T09:30:19.099317",
     "status": "completed"
    },
    "tags": []
   },
   "outputs": [],
   "source": [
    "train[\"selected_text\"] = train[\"selected_text\"].apply(cleantext)"
   ]
  },
  {
   "cell_type": "code",
   "execution_count": 8,
   "id": "caa6ddeb",
   "metadata": {
    "execution": {
     "iopub.execute_input": "2022-09-09T09:30:19.384415Z",
     "iopub.status.busy": "2022-09-09T09:30:19.383390Z",
     "iopub.status.idle": "2022-09-09T09:30:19.394477Z",
     "shell.execute_reply": "2022-09-09T09:30:19.393596Z"
    },
    "papermill": {
     "duration": 0.028135,
     "end_time": "2022-09-09T09:30:19.397881",
     "exception": false,
     "start_time": "2022-09-09T09:30:19.369746",
     "status": "completed"
    },
    "tags": []
   },
   "outputs": [
    {
     "data": {
      "text/plain": [
       "0                   I`d have responded, if I were going\n",
       "1                                              Sooo SAD\n",
       "2                                           bullying me\n",
       "3                                        leave me alone\n",
       "4                                         Sons of ****,\n",
       "5      - some shameless plugging for the best Ranger...\n",
       "6                                                   fun\n",
       "7                                            Soooo high\n",
       "8                                           Both of you\n",
       "9                          Wow... u just became cooler.\n",
       "10    as much as i love to be hopeful, i reckon the ...\n",
       "11                                                 like\n",
       "12                                          DANGERously\n",
       "13                                                 lost\n",
       "14                           test test from the LG enV2\n",
       "Name: selected_text, dtype: object"
      ]
     },
     "execution_count": 8,
     "metadata": {},
     "output_type": "execute_result"
    }
   ],
   "source": [
    "train[\"selected_text\"].head(15)"
   ]
  },
  {
   "cell_type": "code",
   "execution_count": 9,
   "id": "5cc5c442",
   "metadata": {
    "execution": {
     "iopub.execute_input": "2022-09-09T09:30:19.425304Z",
     "iopub.status.busy": "2022-09-09T09:30:19.424380Z",
     "iopub.status.idle": "2022-09-09T09:30:19.719532Z",
     "shell.execute_reply": "2022-09-09T09:30:19.718239Z"
    },
    "papermill": {
     "duration": 0.311889,
     "end_time": "2022-09-09T09:30:19.722422",
     "exception": false,
     "start_time": "2022-09-09T09:30:19.410533",
     "status": "completed"
    },
    "tags": []
   },
   "outputs": [],
   "source": [
    "import string\n",
    "train[\"selected_text\"] = train[\"selected_text\"].apply(lambda wrd:[ltrs.lower() for ltrs in wrd if ltrs not in string.punctuation])"
   ]
  },
  {
   "cell_type": "code",
   "execution_count": 10,
   "id": "e164ac9a",
   "metadata": {
    "execution": {
     "iopub.execute_input": "2022-09-09T09:30:19.750484Z",
     "iopub.status.busy": "2022-09-09T09:30:19.750026Z",
     "iopub.status.idle": "2022-09-09T09:30:19.800827Z",
     "shell.execute_reply": "2022-09-09T09:30:19.799705Z"
    },
    "papermill": {
     "duration": 0.068403,
     "end_time": "2022-09-09T09:30:19.803538",
     "exception": false,
     "start_time": "2022-09-09T09:30:19.735135",
     "status": "completed"
    },
    "tags": []
   },
   "outputs": [],
   "source": [
    "train[\"selected_text\"] = train[\"selected_text\"].apply(lambda wrd: ''.join(wrd))"
   ]
  },
  {
   "cell_type": "code",
   "execution_count": 11,
   "id": "bd3e4686",
   "metadata": {
    "execution": {
     "iopub.execute_input": "2022-09-09T09:30:19.830191Z",
     "iopub.status.busy": "2022-09-09T09:30:19.829786Z",
     "iopub.status.idle": "2022-09-09T09:30:19.838778Z",
     "shell.execute_reply": "2022-09-09T09:30:19.837705Z"
    },
    "papermill": {
     "duration": 0.025001,
     "end_time": "2022-09-09T09:30:19.841111",
     "exception": false,
     "start_time": "2022-09-09T09:30:19.816110",
     "status": "completed"
    },
    "scrolled": true,
    "tags": []
   },
   "outputs": [
    {
     "data": {
      "text/plain": [
       "0                        id have responded if i were going\n",
       "1                                                 sooo sad\n",
       "2                                              bullying me\n",
       "3                                           leave me alone\n",
       "4                                                 sons of \n",
       "                               ...                        \n",
       "27476                                               d lost\n",
       "27477                                           dont force\n",
       "27478                             yay good for both of you\n",
       "27479                                 but it was worth it \n",
       "27480    all this flirting going on  the atg smiles yay...\n",
       "Name: selected_text, Length: 27481, dtype: object"
      ]
     },
     "execution_count": 11,
     "metadata": {},
     "output_type": "execute_result"
    }
   ],
   "source": [
    "train[\"selected_text\"]"
   ]
  },
  {
   "cell_type": "code",
   "execution_count": 12,
   "id": "475a3b3a",
   "metadata": {},
   "outputs": [],
   "source": [
    "import nltk\n"
   ]
  },
  {
   "cell_type": "code",
   "execution_count": 13,
   "id": "f1cbf3f3",
   "metadata": {
    "execution": {
     "iopub.execute_input": "2022-09-09T09:30:19.868844Z",
     "iopub.status.busy": "2022-09-09T09:30:19.868434Z",
     "iopub.status.idle": "2022-09-09T09:30:21.442947Z",
     "shell.execute_reply": "2022-09-09T09:30:21.441695Z"
    },
    "papermill": {
     "duration": 1.591628,
     "end_time": "2022-09-09T09:30:21.445779",
     "exception": false,
     "start_time": "2022-09-09T09:30:19.854151",
     "status": "completed"
    },
    "tags": []
   },
   "outputs": [],
   "source": [
    "from nltk.corpus import stopwords"
   ]
  },
  {
   "cell_type": "code",
   "execution_count": 14,
   "id": "9377761a",
   "metadata": {},
   "outputs": [
    {
     "name": "stderr",
     "output_type": "stream",
     "text": [
      "[nltk_data] Downloading package stopwords to\n",
      "[nltk_data]     C:\\Users\\ASUS\\AppData\\Roaming\\nltk_data...\n",
      "[nltk_data]   Package stopwords is already up-to-date!\n"
     ]
    },
    {
     "data": {
      "text/plain": [
       "True"
      ]
     },
     "execution_count": 14,
     "metadata": {},
     "output_type": "execute_result"
    }
   ],
   "source": [
    "nltk.download('stopwords')\n"
   ]
  },
  {
   "cell_type": "code",
   "execution_count": 15,
   "id": "6a29644f",
   "metadata": {
    "execution": {
     "iopub.execute_input": "2022-09-09T09:30:21.473855Z",
     "iopub.status.busy": "2022-09-09T09:30:21.473440Z",
     "iopub.status.idle": "2022-09-09T09:30:21.541042Z",
     "shell.execute_reply": "2022-09-09T09:30:21.539791Z"
    },
    "papermill": {
     "duration": 0.084597,
     "end_time": "2022-09-09T09:30:21.543869",
     "exception": false,
     "start_time": "2022-09-09T09:30:21.459272",
     "status": "completed"
    },
    "tags": []
   },
   "outputs": [],
   "source": [
    "train[\"selected_text\"][:50] = train[\"selected_text\"][:50].apply(lambda x: ' '.join([word for word in x.split() if word not in stopwords.words(\"english\")]))"
   ]
  },
  {
   "cell_type": "code",
   "execution_count": 16,
   "id": "0985123a",
   "metadata": {
    "execution": {
     "iopub.execute_input": "2022-09-09T09:30:21.572179Z",
     "iopub.status.busy": "2022-09-09T09:30:21.571100Z",
     "iopub.status.idle": "2022-09-09T09:30:21.580598Z",
     "shell.execute_reply": "2022-09-09T09:30:21.579495Z"
    },
    "papermill": {
     "duration": 0.026355,
     "end_time": "2022-09-09T09:30:21.582911",
     "exception": false,
     "start_time": "2022-09-09T09:30:21.556556",
     "status": "completed"
    },
    "tags": []
   },
   "outputs": [
    {
     "data": {
      "text/plain": [
       "0                                       id responded going\n",
       "1                                                 sooo sad\n",
       "2                                                 bullying\n",
       "3                                              leave alone\n",
       "4                                                     sons\n",
       "                               ...                        \n",
       "27476                                               d lost\n",
       "27477                                           dont force\n",
       "27478                             yay good for both of you\n",
       "27479                                 but it was worth it \n",
       "27480    all this flirting going on  the atg smiles yay...\n",
       "Name: selected_text, Length: 27481, dtype: object"
      ]
     },
     "execution_count": 16,
     "metadata": {},
     "output_type": "execute_result"
    }
   ],
   "source": [
    "train[\"selected_text\"]"
   ]
  },
  {
   "cell_type": "code",
   "execution_count": 17,
   "id": "bb39fdb4",
   "metadata": {
    "execution": {
     "iopub.execute_input": "2022-09-09T09:30:21.610555Z",
     "iopub.status.busy": "2022-09-09T09:30:21.610136Z",
     "iopub.status.idle": "2022-09-09T09:30:21.807473Z",
     "shell.execute_reply": "2022-09-09T09:30:21.806365Z"
    },
    "papermill": {
     "duration": 0.214321,
     "end_time": "2022-09-09T09:30:21.810157",
     "exception": false,
     "start_time": "2022-09-09T09:30:21.595836",
     "status": "completed"
    },
    "tags": []
   },
   "outputs": [],
   "source": [
    "import gensim\n",
    "def sent_to_words(sentences):\n",
    "    for sentence in sentences:\n",
    "        yield(gensim.utils.simple_preprocess(str(sentence),     deacc=True))"
   ]
  },
  {
   "cell_type": "code",
   "execution_count": 18,
   "id": "bfe4cd1e",
   "metadata": {
    "execution": {
     "iopub.execute_input": "2022-09-09T09:30:21.837642Z",
     "iopub.status.busy": "2022-09-09T09:30:21.837189Z",
     "iopub.status.idle": "2022-09-09T09:30:21.842962Z",
     "shell.execute_reply": "2022-09-09T09:30:21.841752Z"
    },
    "papermill": {
     "duration": 0.022189,
     "end_time": "2022-09-09T09:30:21.845266",
     "exception": false,
     "start_time": "2022-09-09T09:30:21.823077",
     "status": "completed"
    },
    "tags": []
   },
   "outputs": [],
   "source": [
    "from nltk.tokenize.treebank import TreebankWordDetokenizer\n",
    "def detokenize(text):\n",
    "    return TreebankWordDetokenizer().detokenize(text)"
   ]
  },
  {
   "cell_type": "code",
   "execution_count": 19,
   "id": "2e487096",
   "metadata": {
    "execution": {
     "iopub.execute_input": "2022-09-09T09:30:21.873132Z",
     "iopub.status.busy": "2022-09-09T09:30:21.872736Z",
     "iopub.status.idle": "2022-09-09T09:30:22.607487Z",
     "shell.execute_reply": "2022-09-09T09:30:22.606220Z"
    },
    "papermill": {
     "duration": 0.751888,
     "end_time": "2022-09-09T09:30:22.610212",
     "exception": false,
     "start_time": "2022-09-09T09:30:21.858324",
     "status": "completed"
    },
    "tags": []
   },
   "outputs": [],
   "source": [
    "temp = []\n",
    "data_to_list = train['selected_text'].values.tolist()\n",
    "for i in range(len(data_to_list)):\n",
    "    temp.append(data_to_list[i])\n",
    "data_wordslem = list(sent_to_words(temp))"
   ]
  },
  {
   "cell_type": "markdown",
   "id": "20e250d7",
   "metadata": {
    "papermill": {
     "duration": 0.012663,
     "end_time": "2022-09-09T09:30:22.636377",
     "exception": false,
     "start_time": "2022-09-09T09:30:22.623714",
     "status": "completed"
    },
    "tags": []
   },
   "source": [
    "Using Lemmatizer instead of stemming. Lemmatizer is preffered over stemming. Lemmatizer find the root word whereas Stemmizer shorten the word. For Example, word 'Caring' -> Lemmatizer -> 'Care' WHEREAS 'Caring' -> Stemming -> 'Car'"
   ]
  },
  {
   "cell_type": "code",
   "execution_count": 20,
   "id": "0981fb18",
   "metadata": {
    "execution": {
     "iopub.execute_input": "2022-09-09T09:30:22.664706Z",
     "iopub.status.busy": "2022-09-09T09:30:22.663954Z",
     "iopub.status.idle": "2022-09-09T09:30:22.668293Z",
     "shell.execute_reply": "2022-09-09T09:30:22.667444Z"
    },
    "papermill": {
     "duration": 0.021086,
     "end_time": "2022-09-09T09:30:22.670475",
     "exception": false,
     "start_time": "2022-09-09T09:30:22.649389",
     "status": "completed"
    },
    "tags": []
   },
   "outputs": [],
   "source": [
    "import nltk\n",
    "lemmatizer = nltk.stem.WordNetLemmatizer()"
   ]
  },
  {
   "cell_type": "code",
   "execution_count": 21,
   "id": "c0c10783",
   "metadata": {
    "execution": {
     "iopub.execute_input": "2022-09-09T09:30:22.699153Z",
     "iopub.status.busy": "2022-09-09T09:30:22.698180Z",
     "iopub.status.idle": "2022-09-09T09:30:22.985226Z",
     "shell.execute_reply": "2022-09-09T09:30:22.983807Z"
    },
    "papermill": {
     "duration": 0.304078,
     "end_time": "2022-09-09T09:30:22.988046",
     "exception": false,
     "start_time": "2022-09-09T09:30:22.683968",
     "status": "completed"
    },
    "scrolled": true,
    "tags": []
   },
   "outputs": [
    {
     "name": "stderr",
     "output_type": "stream",
     "text": [
      "[nltk_data] Downloading package omw-1.4 to\n",
      "[nltk_data]     C:\\Users\\ASUS\\AppData\\Roaming\\nltk_data...\n",
      "[nltk_data]   Package omw-1.4 is already up-to-date!\n",
      "[nltk_data] Downloading package wordnet to\n",
      "[nltk_data]     C:\\Users\\ASUS\\AppData\\Roaming\\nltk_data...\n",
      "[nltk_data]   Package wordnet is already up-to-date!\n"
     ]
    },
    {
     "data": {
      "text/plain": [
       "True"
      ]
     },
     "execution_count": 21,
     "metadata": {},
     "output_type": "execute_result"
    }
   ],
   "source": [
    "nltk.download('omw-1.4')\n",
    "nltk.download('wordnet')"
   ]
  },
  {
   "cell_type": "code",
   "execution_count": 22,
   "id": "998bd4d3",
   "metadata": {
    "execution": {
     "iopub.execute_input": "2022-09-09T09:30:23.016478Z",
     "iopub.status.busy": "2022-09-09T09:30:23.015605Z",
     "iopub.status.idle": "2022-09-09T09:30:25.907560Z",
     "shell.execute_reply": "2022-09-09T09:30:25.906334Z"
    },
    "papermill": {
     "duration": 2.90891,
     "end_time": "2022-09-09T09:30:25.910376",
     "exception": false,
     "start_time": "2022-09-09T09:30:23.001466",
     "status": "completed"
    },
    "tags": []
   },
   "outputs": [],
   "source": [
    "for i in range(len(data_wordslem)):\n",
    "    for j in range(len(data_wordslem[i])):\n",
    "        data_wordslem[i][j] = lemmatizer.lemmatize(data_wordslem[i][j],pos=\"v\")"
   ]
  },
  {
   "cell_type": "code",
   "execution_count": 23,
   "id": "35830021",
   "metadata": {
    "execution": {
     "iopub.execute_input": "2022-09-09T09:30:25.938353Z",
     "iopub.status.busy": "2022-09-09T09:30:25.937941Z",
     "iopub.status.idle": "2022-09-09T09:30:27.626245Z",
     "shell.execute_reply": "2022-09-09T09:30:27.624874Z"
    },
    "papermill": {
     "duration": 1.705365,
     "end_time": "2022-09-09T09:30:27.629130",
     "exception": false,
     "start_time": "2022-09-09T09:30:25.923765",
     "status": "completed"
    },
    "tags": []
   },
   "outputs": [
    {
     "name": "stdout",
     "output_type": "stream",
     "text": [
      "['id respond go', 'sooo sad', 'bully', 'leave alone', 'sons']\n"
     ]
    }
   ],
   "source": [
    "data = []\n",
    "for i in range(len(data_wordslem)):\n",
    "    data.append(detokenize(data_wordslem[i]))\n",
    "print(data[:5])"
   ]
  },
  {
   "cell_type": "markdown",
   "id": "9295fdfd",
   "metadata": {
    "papermill": {
     "duration": 0.01295,
     "end_time": "2022-09-09T09:30:27.655494",
     "exception": false,
     "start_time": "2022-09-09T09:30:27.642544",
     "status": "completed"
    },
    "tags": []
   },
   "source": [
    "# Building a Model"
   ]
  },
  {
   "cell_type": "code",
   "execution_count": 24,
   "id": "9a3768a3",
   "metadata": {
    "execution": {
     "iopub.execute_input": "2022-09-09T09:30:27.683612Z",
     "iopub.status.busy": "2022-09-09T09:30:27.683191Z",
     "iopub.status.idle": "2022-09-09T09:30:33.170967Z",
     "shell.execute_reply": "2022-09-09T09:30:33.169727Z"
    },
    "papermill": {
     "duration": 5.505135,
     "end_time": "2022-09-09T09:30:33.173674",
     "exception": false,
     "start_time": "2022-09-09T09:30:27.668539",
     "status": "completed"
    },
    "tags": []
   },
   "outputs": [],
   "source": [
    "from keras.preprocessing.text import Tokenizer\n",
    "from keras.preprocessing.sequence import pad_sequences\n",
    "from keras import regularizers"
   ]
  },
  {
   "cell_type": "markdown",
   "id": "de1fe513",
   "metadata": {
    "papermill": {
     "duration": 0.012732,
     "end_time": "2022-09-09T09:30:33.199618",
     "exception": false,
     "start_time": "2022-09-09T09:30:33.186886",
     "status": "completed"
    },
    "tags": []
   },
   "source": [
    "# Tokenizing and adding padding"
   ]
  },
  {
   "cell_type": "code",
   "execution_count": 25,
   "id": "11598c59",
   "metadata": {
    "execution": {
     "iopub.execute_input": "2022-09-09T09:30:33.228848Z",
     "iopub.status.busy": "2022-09-09T09:30:33.227968Z",
     "iopub.status.idle": "2022-09-09T09:30:34.250710Z",
     "shell.execute_reply": "2022-09-09T09:30:34.249423Z"
    },
    "papermill": {
     "duration": 1.040212,
     "end_time": "2022-09-09T09:30:34.253264",
     "exception": false,
     "start_time": "2022-09-09T09:30:33.213052",
     "status": "completed"
    },
    "tags": []
   },
   "outputs": [
    {
     "name": "stdout",
     "output_type": "stream",
     "text": [
      "[[   0    0    0 ...  290 1026   15]\n",
      " [   0    0    0 ...    0  399   64]\n",
      " [   0    0    0 ...    0    0 3103]\n",
      " ...\n",
      " [   0    0    0 ...  379   12    5]\n",
      " [   0    0    0 ...    1  533    8]\n",
      " [   0    0    0 ...  548  196  398]]\n"
     ]
    }
   ],
   "source": [
    "max_words = 5000\n",
    "max_len = 200\n",
    "\n",
    "tokenizer = Tokenizer(num_words=max_words)\n",
    "tokenizer.fit_on_texts(data)\n",
    "sequences = tokenizer.texts_to_sequences(data)\n",
    "tweets = pad_sequences(sequences, maxlen=max_len)\n",
    "print(tweets)"
   ]
  },
  {
   "cell_type": "code",
   "execution_count": 26,
   "id": "54647ed3",
   "metadata": {
    "execution": {
     "iopub.execute_input": "2022-09-09T09:30:34.281855Z",
     "iopub.status.busy": "2022-09-09T09:30:34.281457Z",
     "iopub.status.idle": "2022-09-09T09:30:34.312871Z",
     "shell.execute_reply": "2022-09-09T09:30:34.311895Z"
    },
    "papermill": {
     "duration": 0.049054,
     "end_time": "2022-09-09T09:30:34.315563",
     "exception": false,
     "start_time": "2022-09-09T09:30:34.266509",
     "status": "completed"
    },
    "tags": []
   },
   "outputs": [],
   "source": [
    "from keras.layers import Embedding\n",
    "embedding_layer = Embedding(1000, 64)"
   ]
  },
  {
   "cell_type": "markdown",
   "id": "66dea7a2",
   "metadata": {
    "papermill": {
     "duration": 0.012513,
     "end_time": "2022-09-09T09:30:34.341245",
     "exception": false,
     "start_time": "2022-09-09T09:30:34.328732",
     "status": "completed"
    },
    "tags": []
   },
   "source": [
    "# Using BiDirectional RNN and LSTM"
   ]
  },
  {
   "cell_type": "markdown",
   "id": "9c5da844",
   "metadata": {
    "papermill": {
     "duration": 0.012479,
     "end_time": "2022-09-09T09:30:34.366511",
     "exception": false,
     "start_time": "2022-09-09T09:30:34.354032",
     "status": "completed"
    },
    "tags": []
   },
   "source": [
    "Bidirectional RNN is preffered over simple RNN because Bidirectional RNN will keep the activations of future words while predicting activations of current words using backprop through time. LSTM (long short term memory) is used to remember the word. Its like a memory of Neual Networks."
   ]
  },
  {
   "cell_type": "code",
   "execution_count": 29,
   "id": "67d5a41a",
   "metadata": {
    "execution": {
     "iopub.execute_input": "2022-09-09T09:30:34.393789Z",
     "iopub.status.busy": "2022-09-09T09:30:34.393400Z",
     "iopub.status.idle": "2022-09-09T09:30:35.018428Z",
     "shell.execute_reply": "2022-09-09T09:30:35.017544Z"
    },
    "papermill": {
     "duration": 0.64173,
     "end_time": "2022-09-09T09:30:35.020965",
     "exception": false,
     "start_time": "2022-09-09T09:30:34.379235",
     "status": "completed"
    },
    "tags": []
   },
   "outputs": [
    {
     "name": "stdout",
     "output_type": "stream",
     "text": [
      "Model: \"sequential\"\n",
      "_________________________________________________________________\n",
      " Layer (type)                Output Shape              Param #   \n",
      "=================================================================\n",
      " embedding_1 (Embedding)     (None, 200, 40)           400000    \n",
      "                                                                 \n",
      " bidirectional (Bidirection  (None, 40)                9760      \n",
      " al)                                                             \n",
      "                                                                 \n",
      " dense (Dense)               (None, 3)                 123       \n",
      "                                                                 \n",
      "=================================================================\n",
      "Total params: 409883 (1.56 MB)\n",
      "Trainable params: 409883 (1.56 MB)\n",
      "Non-trainable params: 0 (0.00 Byte)\n",
      "_________________________________________________________________\n"
     ]
    }
   ],
   "source": [
    "\n",
    "from tensorflow.keras.models import Sequential\n",
    "from tensorflow.keras import layers\n",
    "\n",
    "max_words = 10000  # example value\n",
    "max_len = 200  # example value\n",
    "\n",
    "model2 = Sequential()\n",
    "model2.add(layers.Embedding(max_words, 40, input_length=max_len))\n",
    "model2.add(layers.Bidirectional(layers.LSTM(20, dropout=0.6)))\n",
    "model2.add(layers.Dense(3, activation='softmax'))\n",
    "\n",
    "# Compile the model\n",
    "model2.compile(optimizer='rmsprop', \n",
    "               loss='categorical_crossentropy', \n",
    "               metrics=['accuracy'])\n",
    "\n",
    "model2.summary()\n"
   ]
  },
  {
   "cell_type": "code",
   "execution_count": 30,
   "id": "6fe2e62e",
   "metadata": {
    "execution": {
     "iopub.execute_input": "2022-09-09T09:30:35.049195Z",
     "iopub.status.busy": "2022-09-09T09:30:35.048120Z",
     "iopub.status.idle": "2022-09-09T09:30:35.062748Z",
     "shell.execute_reply": "2022-09-09T09:30:35.061508Z"
    },
    "papermill": {
     "duration": 0.031606,
     "end_time": "2022-09-09T09:30:35.065515",
     "exception": false,
     "start_time": "2022-09-09T09:30:35.033909",
     "status": "completed"
    },
    "tags": []
   },
   "outputs": [],
   "source": [
    "model2.compile(optimizer='adam',loss='categorical_crossentropy', metrics=['accuracy'])"
   ]
  },
  {
   "cell_type": "markdown",
   "id": "a7d7fa7f",
   "metadata": {
    "papermill": {
     "duration": 0.012625,
     "end_time": "2022-09-09T09:30:35.091217",
     "exception": false,
     "start_time": "2022-09-09T09:30:35.078592",
     "status": "completed"
    },
    "tags": []
   },
   "source": [
    "# Label Encoding of output"
   ]
  },
  {
   "cell_type": "code",
   "execution_count": 37,
   "id": "b38be8a0",
   "metadata": {
    "execution": {
     "iopub.execute_input": "2022-09-09T09:30:35.119235Z",
     "iopub.status.busy": "2022-09-09T09:30:35.118492Z",
     "iopub.status.idle": "2022-09-09T09:30:35.595195Z",
     "shell.execute_reply": "2022-09-09T09:30:35.593941Z"
    },
    "papermill": {
     "duration": 0.493822,
     "end_time": "2022-09-09T09:30:35.598014",
     "exception": false,
     "start_time": "2022-09-09T09:30:35.104192",
     "status": "completed"
    },
    "tags": []
   },
   "outputs": [],
   "source": [
    "import tensorflow as tf\n",
    "labels = np.array(train['sentiment'])\n",
    "y = []\n",
    "for i in range(len(labels)):\n",
    "    if labels[i] == 'neutral':\n",
    "        y.append(0)\n",
    "    if labels[i] == 'negative':\n",
    "        y.append(1)\n",
    "    if labels[i] == 'positive':\n",
    "        y.append(2)\n",
    "y = np.array(y)\n",
    "labels = tf.keras.utils.to_categorical(y, 3, dtype=\"float32\")\n",
    "del y"
   ]
  },
  {
   "cell_type": "markdown",
   "id": "fc63979f",
   "metadata": {
    "papermill": {
     "duration": 0.012689,
     "end_time": "2022-09-09T09:30:35.623735",
     "exception": false,
     "start_time": "2022-09-09T09:30:35.611046",
     "status": "completed"
    },
    "tags": []
   },
   "source": [
    "# Training the Model"
   ]
  },
  {
   "cell_type": "code",
   "execution_count": 40,
   "id": "7cdb6523",
   "metadata": {},
   "outputs": [
    {
     "name": "stdout",
     "output_type": "stream",
     "text": [
      "WARNING:tensorflow:From C:\\Users\\ASUS\\AppData\\Local\\Temp\\ipykernel_10976\\2118087978.py:5: is_gpu_available (from tensorflow.python.framework.test_util) is deprecated and will be removed in a future version.\n",
      "Instructions for updating:\n",
      "Use `tf.config.list_physical_devices('GPU')` instead.\n",
      "Using CPU\n"
     ]
    },
    {
     "ename": "ValueError",
     "evalue": "`validation_split` is only supported for Tensors or NumPy arrays, found following types in the input: [<class 'tensorflow.python.data.ops.prefetch_op._PrefetchDataset'>]",
     "output_type": "error",
     "traceback": [
      "\u001b[1;31m---------------------------------------------------------------------------\u001b[0m",
      "\u001b[1;31mValueError\u001b[0m                                Traceback (most recent call last)",
      "Cell \u001b[1;32mIn[40], line 44\u001b[0m\n\u001b[0;32m     41\u001b[0m model\u001b[38;5;241m.\u001b[39mcompile(optimizer\u001b[38;5;241m=\u001b[39m\u001b[38;5;124m'\u001b[39m\u001b[38;5;124mrmsprop\u001b[39m\u001b[38;5;124m'\u001b[39m, loss\u001b[38;5;241m=\u001b[39m\u001b[38;5;124m'\u001b[39m\u001b[38;5;124mcategorical_crossentropy\u001b[39m\u001b[38;5;124m'\u001b[39m, metrics\u001b[38;5;241m=\u001b[39m[\u001b[38;5;124m'\u001b[39m\u001b[38;5;124maccuracy\u001b[39m\u001b[38;5;124m'\u001b[39m])\n\u001b[0;32m     43\u001b[0m \u001b[38;5;66;03m# Train the model with parallel processing on CUDA\u001b[39;00m\n\u001b[1;32m---> 44\u001b[0m history \u001b[38;5;241m=\u001b[39m model\u001b[38;5;241m.\u001b[39mfit(dataset, epochs\u001b[38;5;241m=\u001b[39m\u001b[38;5;241m20\u001b[39m, validation_split\u001b[38;5;241m=\u001b[39m\u001b[38;5;241m0.2\u001b[39m)\n\u001b[0;32m     46\u001b[0m \u001b[38;5;66;03m# Print the training history\u001b[39;00m\n\u001b[0;32m     47\u001b[0m \u001b[38;5;28mprint\u001b[39m(history\u001b[38;5;241m.\u001b[39mhistory)\n",
      "File \u001b[1;32mC:\\ProgramData\\anaconda3\\Lib\\site-packages\\keras\\src\\utils\\traceback_utils.py:70\u001b[0m, in \u001b[0;36mfilter_traceback.<locals>.error_handler\u001b[1;34m(*args, **kwargs)\u001b[0m\n\u001b[0;32m     67\u001b[0m     filtered_tb \u001b[38;5;241m=\u001b[39m _process_traceback_frames(e\u001b[38;5;241m.\u001b[39m__traceback__)\n\u001b[0;32m     68\u001b[0m     \u001b[38;5;66;03m# To get the full stack trace, call:\u001b[39;00m\n\u001b[0;32m     69\u001b[0m     \u001b[38;5;66;03m# `tf.debugging.disable_traceback_filtering()`\u001b[39;00m\n\u001b[1;32m---> 70\u001b[0m     \u001b[38;5;28;01mraise\u001b[39;00m e\u001b[38;5;241m.\u001b[39mwith_traceback(filtered_tb) \u001b[38;5;28;01mfrom\u001b[39;00m \u001b[38;5;28;01mNone\u001b[39;00m\n\u001b[0;32m     71\u001b[0m \u001b[38;5;28;01mfinally\u001b[39;00m:\n\u001b[0;32m     72\u001b[0m     \u001b[38;5;28;01mdel\u001b[39;00m filtered_tb\n",
      "File \u001b[1;32mC:\\ProgramData\\anaconda3\\Lib\\site-packages\\keras\\src\\engine\\data_adapter.py:1766\u001b[0m, in \u001b[0;36mtrain_validation_split\u001b[1;34m(arrays, validation_split)\u001b[0m\n\u001b[0;32m   1764\u001b[0m unsplitable \u001b[38;5;241m=\u001b[39m [\u001b[38;5;28mtype\u001b[39m(t) \u001b[38;5;28;01mfor\u001b[39;00m t \u001b[38;5;129;01min\u001b[39;00m flat_arrays \u001b[38;5;28;01mif\u001b[39;00m \u001b[38;5;129;01mnot\u001b[39;00m _can_split(t)]\n\u001b[0;32m   1765\u001b[0m \u001b[38;5;28;01mif\u001b[39;00m unsplitable:\n\u001b[1;32m-> 1766\u001b[0m     \u001b[38;5;28;01mraise\u001b[39;00m \u001b[38;5;167;01mValueError\u001b[39;00m(\n\u001b[0;32m   1767\u001b[0m         \u001b[38;5;124m\"\u001b[39m\u001b[38;5;124m`validation_split` is only supported for Tensors or NumPy \u001b[39m\u001b[38;5;124m\"\u001b[39m\n\u001b[0;32m   1768\u001b[0m         \u001b[38;5;124m\"\u001b[39m\u001b[38;5;124marrays, found following types in the input: \u001b[39m\u001b[38;5;132;01m{}\u001b[39;00m\u001b[38;5;124m\"\u001b[39m\u001b[38;5;241m.\u001b[39mformat(unsplitable)\n\u001b[0;32m   1769\u001b[0m     )\n\u001b[0;32m   1771\u001b[0m \u001b[38;5;28;01mif\u001b[39;00m \u001b[38;5;28mall\u001b[39m(t \u001b[38;5;129;01mis\u001b[39;00m \u001b[38;5;28;01mNone\u001b[39;00m \u001b[38;5;28;01mfor\u001b[39;00m t \u001b[38;5;129;01min\u001b[39;00m flat_arrays):\n\u001b[0;32m   1772\u001b[0m     \u001b[38;5;28;01mreturn\u001b[39;00m arrays, arrays\n",
      "\u001b[1;31mValueError\u001b[0m: `validation_split` is only supported for Tensors or NumPy arrays, found following types in the input: [<class 'tensorflow.python.data.ops.prefetch_op._PrefetchDataset'>]"
     ]
    }
   ],
   "source": [
    "# import numpy as np\n",
    "# import tensorflow as tf\n",
    "\n",
    "# # Check if CUDA is available\n",
    "# if tf.test.is_gpu_available():\n",
    "#     print(\"Using GPU\")\n",
    "# else:\n",
    "#     print(\"Using CPU\")\n",
    "\n",
    "# # Convert labels to one-hot encoded format\n",
    "# labels = np.array(train['sentiment'])\n",
    "# y = []\n",
    "# for i in range(len(labels)):\n",
    "#     if labels[i] == 'neutral':\n",
    "#         y.append(0)\n",
    "#     if labels[i] == 'negative':\n",
    "#         y.append(1)\n",
    "#     if labels[i] == 'positive':\n",
    "#         y.append(2)\n",
    "# y = np.array(y)\n",
    "# labels = tf.keras.utils.to_categorical(y, 3, dtype=\"float32\")\n",
    "# del y\n",
    "\n",
    "# # Convert tweets and labels to TensorFlow Dataset\n",
    "# dataset = tf.data.Dataset.from_tensor_slices((tweets, labels))\n",
    "# dataset = dataset.shuffle(buffer_size=1024).batch(32).prefetch(tf.data.AUTOTUNE)\n",
    "\n",
    "# # Define the model\n",
    "# max_words = 10000  # example value\n",
    "# max_len = 200  # example value\n",
    "# embedding_dim = 40\n",
    "# lstm_units = 20\n",
    "\n",
    "# model = tf.keras.Sequential([\n",
    "#     tf.keras.layers.Embedding(max_words, embedding_dim, input_length=max_len),\n",
    "#     tf.keras.layers.Bidirectional(tf.keras.layers.LSTM(lstm_units, dropout=0.6)),\n",
    "#     tf.keras.layers.Dense(3, activation='softmax')\n",
    "# ])\n",
    "\n",
    "# # Compile the model\n",
    "# model.compile(optimizer='rmsprop', loss='categorical_crossentropy', metrics=['accuracy'])\n",
    "\n",
    "# # Train the model with parallel processing on CUDA\n",
    "# history = model.fit(dataset, epochs=20, validation_split=0.2)\n",
    "\n",
    "# # Print the training history\n",
    "# print(history.history)\n"
   ]
  },
  {
   "cell_type": "code",
   "execution_count": 41,
   "id": "b7f80d7f",
   "metadata": {},
   "outputs": [
    {
     "name": "stdout",
     "output_type": "stream",
     "text": [
      "Epoch 1/20\n",
      "687/687 [==============================] - 26s 38ms/step - loss: 0.2984 - accuracy: 0.8895 - val_loss: 0.4495 - val_accuracy: 0.8394\n",
      "Epoch 2/20\n",
      "687/687 [==============================] - 36s 52ms/step - loss: 0.2884 - accuracy: 0.8926 - val_loss: 0.4546 - val_accuracy: 0.8377\n",
      "Epoch 3/20\n",
      "687/687 [==============================] - 38s 56ms/step - loss: 0.2795 - accuracy: 0.8972 - val_loss: 0.4593 - val_accuracy: 0.8370\n",
      "Epoch 4/20\n",
      "687/687 [==============================] - 38s 56ms/step - loss: 0.2690 - accuracy: 0.9003 - val_loss: 0.4692 - val_accuracy: 0.8345\n",
      "Epoch 5/20\n",
      "687/687 [==============================] - 39s 56ms/step - loss: 0.2633 - accuracy: 0.9011 - val_loss: 0.4801 - val_accuracy: 0.8355\n",
      "Epoch 6/20\n",
      "687/687 [==============================] - 38s 56ms/step - loss: 0.2545 - accuracy: 0.9042 - val_loss: 0.4810 - val_accuracy: 0.8295\n",
      "Epoch 7/20\n",
      "687/687 [==============================] - 38s 56ms/step - loss: 0.2508 - accuracy: 0.9073 - val_loss: 0.4866 - val_accuracy: 0.8354\n",
      "Epoch 8/20\n",
      "687/687 [==============================] - 39s 56ms/step - loss: 0.2457 - accuracy: 0.9098 - val_loss: 0.4918 - val_accuracy: 0.8366\n",
      "Epoch 9/20\n",
      "687/687 [==============================] - 37s 53ms/step - loss: 0.2390 - accuracy: 0.9125 - val_loss: 0.4870 - val_accuracy: 0.8372\n",
      "Epoch 10/20\n",
      "687/687 [==============================] - 38s 56ms/step - loss: 0.2349 - accuracy: 0.9117 - val_loss: 0.5036 - val_accuracy: 0.8337\n",
      "Epoch 11/20\n",
      "687/687 [==============================] - 38s 56ms/step - loss: 0.2308 - accuracy: 0.9126 - val_loss: 0.5014 - val_accuracy: 0.8350\n",
      "Epoch 12/20\n",
      "687/687 [==============================] - 38s 56ms/step - loss: 0.2246 - accuracy: 0.9170 - val_loss: 0.5126 - val_accuracy: 0.8325\n",
      "Epoch 13/20\n",
      "687/687 [==============================] - 38s 56ms/step - loss: 0.2215 - accuracy: 0.9173 - val_loss: 0.5164 - val_accuracy: 0.8345\n",
      "Epoch 14/20\n",
      "687/687 [==============================] - 38s 56ms/step - loss: 0.2192 - accuracy: 0.9176 - val_loss: 0.5150 - val_accuracy: 0.8381\n",
      "Epoch 15/20\n",
      "687/687 [==============================] - 38s 56ms/step - loss: 0.2106 - accuracy: 0.9215 - val_loss: 0.5361 - val_accuracy: 0.8345\n",
      "Epoch 16/20\n",
      "687/687 [==============================] - 39s 56ms/step - loss: 0.2124 - accuracy: 0.9191 - val_loss: 0.5318 - val_accuracy: 0.8341\n",
      "Epoch 17/20\n",
      "687/687 [==============================] - 39s 56ms/step - loss: 0.2077 - accuracy: 0.9219 - val_loss: 0.5347 - val_accuracy: 0.8325\n",
      "Epoch 18/20\n",
      "687/687 [==============================] - 37s 54ms/step - loss: 0.2066 - accuracy: 0.9215 - val_loss: 0.5490 - val_accuracy: 0.8326\n",
      "Epoch 19/20\n",
      "687/687 [==============================] - 36s 53ms/step - loss: 0.2031 - accuracy: 0.9240 - val_loss: 0.5462 - val_accuracy: 0.8305\n",
      "Epoch 20/20\n",
      "687/687 [==============================] - 36s 53ms/step - loss: 0.2005 - accuracy: 0.9243 - val_loss: 0.5432 - val_accuracy: 0.8332\n"
     ]
    }
   ],
   "source": [
    "history = model2.fit(x=tweets, y=labels, epochs=20, validation_split=0.2)"
   ]
  },
  {
   "cell_type": "code",
   "execution_count": null,
   "id": "5c3ebb06",
   "metadata": {
    "execution": {
     "iopub.execute_input": "2022-09-09T09:30:35.651165Z",
     "iopub.status.busy": "2022-09-09T09:30:35.650751Z",
     "iopub.status.idle": "2022-09-09T11:15:45.149065Z",
     "shell.execute_reply": "2022-09-09T11:15:45.147881Z"
    },
    "papermill": {
     "duration": 6309.515467,
     "end_time": "2022-09-09T11:15:45.152042",
     "exception": false,
     "start_time": "2022-09-09T09:30:35.636575",
     "status": "completed"
    },
    "tags": []
   },
   "outputs": [],
   "source": [
    "# import torch\n",
    "# import torch.nn as nn\n",
    "# import torch.optim as optim\n",
    "\n",
    "# max_words = 10000  # example value\n",
    "# max_len = 200  # example value\n",
    "# embedding_dim = 40\n",
    "# lstm_units = 20\n",
    "\n",
    "# class BiLSTMModel(nn.Module):\n",
    "#     def __init__(self, vocab_size, embedding_dim, lstm_units, output_dim):\n",
    "#         super(BiLSTMModel, self).__init__()\n",
    "#         self.embedding = nn.Embedding(vocab_size, embedding_dim)\n",
    "#         self.bilstm = nn.LSTM(embedding_dim, lstm_units, bidirectional=True)\n",
    "#         self.dropout = nn.Dropout(0.6)\n",
    "#         self.fc = nn.Linear(lstm_units * 2, output_dim)\n",
    "    \n",
    "#     def forward(self, x):\n",
    "#         x = self.embedding(x)\n",
    "#         x, _ = self.bilstm(x)\n",
    "#         x = self.dropout(x)\n",
    "#         x = torch.mean(x, dim=1)  # Average pooling over the sequence length\n",
    "#         x = self.fc(x)\n",
    "#         return x\n",
    "\n",
    "# # Initialize model, move it to CUDA if available\n",
    "# model = BiLSTMModel(max_words, embedding_dim, lstm_units, 3)\n",
    "# device = torch.device(\"cuda\" if torch.cuda.is_available() else \"cpu\")\n",
    "# model = model.to(device)\n",
    "\n",
    "# # Define loss and optimizer\n",
    "# criterion = nn.CrossEntropyLoss()\n",
    "# optimizer = optim.RMSprop(model.parameters())\n",
    "\n",
    "# print(model)\n"
   ]
  },
  {
   "cell_type": "code",
   "execution_count": null,
   "id": "8728e31f",
   "metadata": {
    "scrolled": true
   },
   "outputs": [],
   "source": []
  },
  {
   "cell_type": "code",
   "execution_count": 42,
   "id": "89ea8cb4",
   "metadata": {
    "execution": {
     "iopub.execute_input": "2022-09-09T11:15:51.487081Z",
     "iopub.status.busy": "2022-09-09T11:15:51.486684Z",
     "iopub.status.idle": "2022-09-09T11:15:51.491796Z",
     "shell.execute_reply": "2022-09-09T11:15:51.490880Z"
    },
    "papermill": {
     "duration": 3.210064,
     "end_time": "2022-09-09T11:15:51.493924",
     "exception": false,
     "start_time": "2022-09-09T11:15:48.283860",
     "status": "completed"
    },
    "tags": []
   },
   "outputs": [],
   "source": [
    "import matplotlib.pyplot as plt"
   ]
  },
  {
   "cell_type": "markdown",
   "id": "9ca13fff",
   "metadata": {
    "papermill": {
     "duration": 3.193944,
     "end_time": "2022-09-09T11:15:57.804115",
     "exception": false,
     "start_time": "2022-09-09T11:15:54.610171",
     "status": "completed"
    },
    "tags": []
   },
   "source": [
    "# Visualizing Loss"
   ]
  },
  {
   "cell_type": "code",
   "execution_count": 43,
   "id": "22e9189e",
   "metadata": {
    "execution": {
     "iopub.execute_input": "2022-09-09T11:16:04.125609Z",
     "iopub.status.busy": "2022-09-09T11:16:04.125183Z",
     "iopub.status.idle": "2022-09-09T11:16:04.370911Z",
     "shell.execute_reply": "2022-09-09T11:16:04.369994Z"
    },
    "papermill": {
     "duration": 3.349427,
     "end_time": "2022-09-09T11:16:04.373136",
     "exception": false,
     "start_time": "2022-09-09T11:16:01.023709",
     "status": "completed"
    },
    "tags": []
   },
   "outputs": [
    {
     "data": {
      "image/png": "[encoded data removed]",
      "text/plain": [
       "<Figure size 640x480 with 1 Axes>"
      ]
     },
     "metadata": {},
     "output_type": "display_data"
    }
   ],
   "source": [
    "plt.plot(history.history['loss'])\n",
    "plt.plot(history.history['val_loss'])\n",
    "plt.title('Loss')\n",
    "plt.ylabel('loss')\n",
    "plt.xlabel('epoch')\n",
    "plt.legend(['train', 'validation'], loc='upper left')\n",
    "plt.show()"
   ]
  },
  {
   "cell_type": "code",
   "execution_count": 44,
   "id": "47216641",
   "metadata": {
    "execution": {
     "iopub.execute_input": "2022-09-09T11:16:10.723773Z",
     "iopub.status.busy": "2022-09-09T11:16:10.723027Z",
     "iopub.status.idle": "2022-09-09T11:16:10.918566Z",
     "shell.execute_reply": "2022-09-09T11:16:10.917373Z"
    },
    "papermill": {
     "duration": 3.42188,
     "end_time": "2022-09-09T11:16:10.920790",
     "exception": false,
     "start_time": "2022-09-09T11:16:07.498910",
     "status": "completed"
    },
    "tags": []
   },
   "outputs": [
    {
     "data": {
      "image/png": "[encoded data removed]",
      "text/plain": [
       "<Figure size 640x480 with 1 Axes>"
      ]
     },
     "metadata": {},
     "output_type": "display_data"
    }
   ],
   "source": [
    "plt.plot(history.history['accuracy'])\n",
    "plt.plot(history.history['val_accuracy'])\n",
    "plt.title('Accuracy')\n",
    "plt.ylabel('Accuracy')\n",
    "plt.xlabel('epoch')\n",
    "plt.legend(['train', 'validation'], loc='upper left')\n",
    "plt.show()"
   ]
  },
  {
   "cell_type": "markdown",
   "id": "9453e243",
   "metadata": {
    "papermill": {
     "duration": 3.125373,
     "end_time": "2022-09-09T11:16:17.179424",
     "exception": false,
     "start_time": "2022-09-09T11:16:14.054051",
     "status": "completed"
    },
    "tags": []
   },
   "source": [
    "# Prediction and Result"
   ]
  },
  {
   "cell_type": "code",
   "execution_count": 45,
   "id": "886e0243",
   "metadata": {
    "execution": {
     "iopub.execute_input": "2022-09-09T11:16:23.504488Z",
     "iopub.status.busy": "2022-09-09T11:16:23.503753Z",
     "iopub.status.idle": "2022-09-09T11:16:23.508058Z",
     "shell.execute_reply": "2022-09-09T11:16:23.507303Z"
    },
    "papermill": {
     "duration": 3.106733,
     "end_time": "2022-09-09T11:16:23.510062",
     "exception": false,
     "start_time": "2022-09-09T11:16:20.403329",
     "status": "completed"
    },
    "tags": []
   },
   "outputs": [],
   "source": [
    "sentiment = ['Neutral','Negative','Positive']"
   ]
  },
  {
   "cell_type": "code",
   "execution_count": 46,
   "id": "c19ec642",
   "metadata": {
    "execution": {
     "iopub.execute_input": "2022-09-09T11:16:29.840368Z",
     "iopub.status.busy": "2022-09-09T11:16:29.839926Z",
     "iopub.status.idle": "2022-09-09T11:16:30.675590Z",
     "shell.execute_reply": "2022-09-09T11:16:30.674468Z"
    },
    "papermill": {
     "duration": 4.059902,
     "end_time": "2022-09-09T11:16:30.677931",
     "exception": false,
     "start_time": "2022-09-09T11:16:26.618029",
     "status": "completed"
    },
    "tags": []
   },
   "outputs": [
    {
     "name": "stdout",
     "output_type": "stream",
     "text": [
      "1/1 [==============================] - 1s 1s/step\n"
     ]
    },
    {
     "data": {
      "text/plain": [
       "'Negative'"
      ]
     },
     "execution_count": 46,
     "metadata": {},
     "output_type": "execute_result"
    }
   ],
   "source": [
    "sequence = tokenizer.texts_to_sequences(['this experience has been the worst, very bad product'])\n",
    "test = pad_sequences(sequence, maxlen=max_len)\n",
    "sentiment[np.around(model2.predict(test), decimals=0).argmax(axis=1)[0]]"
   ]
  },
  {
   "cell_type": "code",
   "execution_count": 47,
   "id": "b089c04d",
   "metadata": {
    "execution": {
     "iopub.execute_input": "2022-09-09T11:16:37.001812Z",
     "iopub.status.busy": "2022-09-09T11:16:37.001024Z",
     "iopub.status.idle": "2022-09-09T11:16:37.068625Z",
     "shell.execute_reply": "2022-09-09T11:16:37.067563Z"
    },
    "papermill": {
     "duration": 3.281564,
     "end_time": "2022-09-09T11:16:37.071052",
     "exception": false,
     "start_time": "2022-09-09T11:16:33.789488",
     "status": "completed"
    },
    "tags": []
   },
   "outputs": [
    {
     "name": "stdout",
     "output_type": "stream",
     "text": [
      "1/1 [==============================] - 0s 48ms/step\n"
     ]
    },
    {
     "data": {
      "text/plain": [
       "'Positive'"
      ]
     },
     "execution_count": 47,
     "metadata": {},
     "output_type": "execute_result"
    }
   ],
   "source": [
    "sequence = tokenizer.texts_to_sequences(['very useefull'])\n",
    "test = pad_sequences(sequence, maxlen=max_len)\n",
    "sentiment[np.around(model2.predict(test), decimals=0).argmax(axis=1)[0]]"
   ]
  },
  {
   "cell_type": "code",
   "execution_count": 48,
   "id": "77463673",
   "metadata": {
    "execution": {
     "iopub.execute_input": "2022-09-09T11:16:43.310636Z",
     "iopub.status.busy": "2022-09-09T11:16:43.310222Z",
     "iopub.status.idle": "2022-09-09T11:16:43.379274Z",
     "shell.execute_reply": "2022-09-09T11:16:43.378051Z"
    },
    "papermill": {
     "duration": 3.203388,
     "end_time": "2022-09-09T11:16:43.381858",
     "exception": false,
     "start_time": "2022-09-09T11:16:40.178470",
     "status": "completed"
    },
    "tags": []
   },
   "outputs": [
    {
     "name": "stdout",
     "output_type": "stream",
     "text": [
      "1/1 [==============================] - 0s 24ms/step\n"
     ]
    },
    {
     "data": {
      "text/plain": [
       "'Positive'"
      ]
     },
     "execution_count": 48,
     "metadata": {},
     "output_type": "execute_result"
    }
   ],
   "source": [
    "sequence = tokenizer.texts_to_sequences(['i love sayabidevs'])\n",
    "test = pad_sequences(sequence, maxlen=max_len)\n",
    "sentiment[np.around(model2.predict(test), decimals=0).argmax(axis=1)[0]]"
   ]
  },
  {
   "cell_type": "code",
   "execution_count": 49,
   "id": "05470e68",
   "metadata": {
    "execution": {
     "iopub.execute_input": "2022-09-09T11:16:49.769587Z",
     "iopub.status.busy": "2022-09-09T11:16:49.768822Z",
     "iopub.status.idle": "2022-09-09T11:16:49.848874Z",
     "shell.execute_reply": "2022-09-09T11:16:49.847977Z"
    },
    "papermill": {
     "duration": 3.205366,
     "end_time": "2022-09-09T11:16:49.851180",
     "exception": false,
     "start_time": "2022-09-09T11:16:46.645814",
     "status": "completed"
    },
    "tags": []
   },
   "outputs": [
    {
     "name": "stdout",
     "output_type": "stream",
     "text": [
      "1/1 [==============================] - 0s 24ms/step\n"
     ]
    },
    {
     "data": {
      "text/plain": [
       "'Neutral'"
      ]
     },
     "execution_count": 49,
     "metadata": {},
     "output_type": "execute_result"
    }
   ],
   "source": [
    "sequence = tokenizer.texts_to_sequences(['I go to gym daily'])\n",
    "test = pad_sequences(sequence, maxlen=max_len)\n",
    "sentiment[np.around(model2.predict(test), decimals=0).argmax(axis=1)[0]]"
   ]
  },
  {
   "cell_type": "code",
   "execution_count": 54,
   "id": "591c4711",
   "metadata": {
    "scrolled": true
   },
   "outputs": [
    {
     "name": "stdout",
     "output_type": "stream",
     "text": [
      "enter the test sentence!lets play a game \n"
     ]
    }
   ],
   "source": [
    "dialog = input(str(\"enter the test sentence!\"))"
   ]
  },
  {
   "cell_type": "code",
   "execution_count": 55,
   "id": "1f76cd7a",
   "metadata": {},
   "outputs": [
    {
     "name": "stdout",
     "output_type": "stream",
     "text": [
      "sentance :::: lets play a game  :::: is\n",
      "1/1 [==============================] - 0s 24ms/step\n"
     ]
    },
    {
     "data": {
      "text/plain": [
       "'Neutral'"
      ]
     },
     "execution_count": 55,
     "metadata": {},
     "output_type": "execute_result"
    }
   ],
   "source": [
    "sequence = tokenizer.texts_to_sequences([dialog])\n",
    "test = pad_sequences(sequence, maxlen=max_len)\n",
    "print(\"sentance\", \"::::\", dialog, \"::::\", \"is\")\n",
    "sentiment[np.around(model2.predict(test), decimals=0).argmax(axis=1)[0]]"
   ]
  },
  {
   "cell_type": "code",
   "execution_count": null,
   "id": "624a4400",
   "metadata": {},
   "outputs": [],
   "source": []
  },
  {
   "cell_type": "code",
   "execution_count": null,
   "id": "afa57191",
   "metadata": {},
   "outputs": [],
   "source": []
  },
  {
   "cell_type": "code",
   "execution_count": null,
   "id": "8efa2129",
   "metadata": {},
   "outputs": [],
   "source": []
  },
  {
   "cell_type": "code",
   "execution_count": null,
   "id": "e742970e",
   "metadata": {},
   "outputs": [],
   "source": []
  }
 ],
 "metadata": {
  "kernelspec": {
   "display_name": "Python 3 (ipykernel)",
   "language": "python",
   "name": "python3"
  },
  "language_info": {
   "codemirror_mode": {
    "name": "ipython",
    "version": 3
   },
   "file_extension": ".py",
   "mimetype": "text/x-python",
   "name": "python",
   "nbconvert_exporter": "python",
   "pygments_lexer": "ipython3",
   "version": "3.11.4"
  },
  "papermill": {
   "default_parameters": {},
   "duration": 11203.558203,
   "end_time": "2022-09-09T12:36:53.383436",
   "environment_variables": {},
   "exception": null,
   "input_path": "__notebook__.ipynb",
   "output_path": "__notebook__.ipynb",
   "parameters": {},
   "start_time": "2022-09-09T09:30:09.825233",
   "version": "2.3.4"
  }
 },
 "nbformat": 4,
 "nbformat_minor": 5
}
